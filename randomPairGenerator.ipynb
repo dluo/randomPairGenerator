{
 "cells": [
  {
   "cell_type": "code",
   "execution_count": 60,
   "metadata": {
    "collapsed": false
   },
   "outputs": [],
   "source": [
    "import pprint\n",
    "import random\n",
    "\n"
   ]
  },
  {
   "cell_type": "code",
   "execution_count": 36,
   "metadata": {
    "collapsed": true
   },
   "outputs": [],
   "source": [
    "pp = pprint.PrettyPrinter(depth = 2)"
   ]
  },
  {
   "cell_type": "code",
   "execution_count": 183,
   "metadata": {
    "collapsed": false
   },
   "outputs": [
    {
     "name": "stdout",
     "output_type": "stream",
     "text": [
      "['Brock', 'Marie', 'Walter', 'Pete', 'Hector', 'Todd']\n"
     ]
    }
   ],
   "source": [
    "names = [\"Brock\",\n",
    "        \"Marie\",\n",
    "        \"Walter\",\n",
    "#        \"Holly\",\n",
    "#        \"Gale\",\n",
    "        \"Pete\",\n",
    "        \"Hector\",\n",
    "        \"Todd\"]\n",
    "\n",
    "\n",
    "print(names)\n"
   ]
  },
  {
   "cell_type": "code",
   "execution_count": 184,
   "metadata": {
    "collapsed": false
   },
   "outputs": [
    {
     "name": "stdout",
     "output_type": "stream",
     "text": [
      "{'Brock': {'Brock': False,\n",
      "           'Hector': True,\n",
      "           'Marie': True,\n",
      "           'Pete': True,\n",
      "           'Todd': True,\n",
      "           'Walter': True},\n",
      " 'Hector': {'Brock': True,\n",
      "            'Hector': False,\n",
      "            'Marie': True,\n",
      "            'Pete': True,\n",
      "            'Todd': True,\n",
      "            'Walter': True},\n",
      " 'Marie': {'Brock': True,\n",
      "           'Hector': True,\n",
      "           'Marie': False,\n",
      "           'Pete': True,\n",
      "           'Todd': True,\n",
      "           'Walter': True},\n",
      " 'Pete': {'Brock': True,\n",
      "          'Hector': True,\n",
      "          'Marie': True,\n",
      "          'Pete': False,\n",
      "          'Todd': True,\n",
      "          'Walter': True},\n",
      " 'Todd': {'Brock': True,\n",
      "          'Hector': True,\n",
      "          'Marie': True,\n",
      "          'Pete': True,\n",
      "          'Todd': False,\n",
      "          'Walter': True},\n",
      " 'Walter': {'Brock': True,\n",
      "            'Hector': True,\n",
      "            'Marie': True,\n",
      "            'Pete': True,\n",
      "            'Todd': True,\n",
      "            'Walter': False}}\n"
     ]
    }
   ],
   "source": [
    "possiblePartners = {}\n",
    "for name1 in names:\n",
    "    possiblePartners[name1] = {}\n",
    "    for name2 in names:\n",
    "        possiblePartners[name1][name2] = not(name1 == name2)\n",
    "\n",
    "pp.pprint(possiblePartners)"
   ]
  },
  {
   "cell_type": "code",
   "execution_count": 185,
   "metadata": {
    "collapsed": false
   },
   "outputs": [],
   "source": [
    "def pickPartner(names):\n",
    "    return random.choice(names)\n",
    "\n",
    "def convertPairsTuple(pairs):\n",
    "    return [name for pair in pairs for name in pair]\n",
    "\n",
    "def generatePair(names, possiblePartners):\n",
    "    \n",
    "    pairs = []\n",
    "    \n",
    "    for name in names:\n",
    "        \n",
    "        #prevent multiple call for same user in same iteration\n",
    "#        print(name)\n",
    "#        print(convertPairsTuple(pairs))\n",
    "#        print(name in convertPairsTuple(pairs))\n",
    "\n",
    "        pairsArr = convertPairsTuple(pairs)\n",
    "        if (name not in pairsArr):\n",
    "\n",
    "            validPartners = []\n",
    "            possiblePairs = possiblePartners[name]\n",
    "\n",
    "            for partName, possiblePartner in possiblePairs.iteritems():\n",
    "                if possiblePartner and partName not in pairsArr:\n",
    "                    validPartners.append(partName)\n",
    "                else:\n",
    "                    \n",
    "\n",
    "            if validPartners:\n",
    "                partnerName = pickPartner(validPartners)\n",
    "                \n",
    "            possiblePartners[name][partnerName] = False\n",
    "            possiblePartners[partnerName][name] = False\n",
    "\n",
    "            pairs.append((name, partnerName))\n",
    "        \n",
    "    return pairs, possiblePartners\n",
    "        \n"
   ]
  },
  {
   "cell_type": "code",
   "execution_count": 188,
   "metadata": {
    "collapsed": false
   },
   "outputs": [
    {
     "name": "stdout",
     "output_type": "stream",
     "text": [
      "{'Brock': {'Brock': False,\n",
      "           'Hector': True,\n",
      "           'Marie': True,\n",
      "           'Pete': False,\n",
      "           'Todd': True,\n",
      "           'Walter': False},\n",
      " 'Hector': {'Brock': True,\n",
      "            'Hector': False,\n",
      "            'Marie': False,\n",
      "            'Pete': False,\n",
      "            'Todd': True,\n",
      "            'Walter': True},\n",
      " 'Marie': {'Brock': True,\n",
      "           'Hector': False,\n",
      "           'Marie': False,\n",
      "           'Pete': True,\n",
      "           'Todd': False,\n",
      "           'Walter': True},\n",
      " 'Pete': {'Brock': False,\n",
      "          'Hector': False,\n",
      "          'Marie': True,\n",
      "          'Pete': False,\n",
      "          'Todd': True,\n",
      "          'Walter': True},\n",
      " 'Todd': {'Brock': True,\n",
      "          'Hector': True,\n",
      "          'Marie': False,\n",
      "          'Pete': True,\n",
      "          'Todd': False,\n",
      "          'Walter': False},\n",
      " 'Walter': {'Brock': False,\n",
      "            'Hector': True,\n",
      "            'Marie': True,\n",
      "            'Pete': True,\n",
      "            'Todd': False,\n",
      "            'Walter': False}}\n",
      "[('Brock', 'Hector'), ('Marie', 'Pete'), ('Walter', 'Pete'), ('Todd', 'Pete')]\n",
      "{'Brock': {'Brock': False,\n",
      "           'Hector': False,\n",
      "           'Marie': True,\n",
      "           'Pete': False,\n",
      "           'Todd': True,\n",
      "           'Walter': False},\n",
      " 'Hector': {'Brock': False,\n",
      "            'Hector': False,\n",
      "            'Marie': False,\n",
      "            'Pete': False,\n",
      "            'Todd': True,\n",
      "            'Walter': True},\n",
      " 'Marie': {'Brock': True,\n",
      "           'Hector': False,\n",
      "           'Marie': False,\n",
      "           'Pete': False,\n",
      "           'Todd': False,\n",
      "           'Walter': True},\n",
      " 'Pete': {'Brock': False,\n",
      "          'Hector': False,\n",
      "          'Marie': False,\n",
      "          'Pete': False,\n",
      "          'Todd': False,\n",
      "          'Walter': False},\n",
      " 'Todd': {'Brock': True,\n",
      "          'Hector': True,\n",
      "          'Marie': False,\n",
      "          'Pete': False,\n",
      "          'Todd': False,\n",
      "          'Walter': False},\n",
      " 'Walter': {'Brock': False,\n",
      "            'Hector': True,\n",
      "            'Marie': True,\n",
      "            'Pete': False,\n",
      "            'Todd': False,\n",
      "            'Walter': False}}\n"
     ]
    }
   ],
   "source": [
    "pp.pprint(possiblePartners)\n",
    "pairs, possiblePartners = generatePair(names, possiblePartners)\n",
    "\n",
    "\n",
    "print(pairs)\n",
    "pp.pprint(possiblePartners)"
   ]
  },
  {
   "cell_type": "code",
   "execution_count": 173,
   "metadata": {
    "collapsed": false
   },
   "outputs": [
    {
     "data": {
      "image/png": "[encoded data removed]",
      "text/plain": [
       "<matplotlib.figure.Figure at 0x105072710>"
      ]
     },
     "metadata": {},
     "output_type": "display_data"
    }
   ],
   "source": [
    "import numpy as np\n",
    "import matplotlib.pyplot as plt\n",
    "\n",
    "H = np.array([[1, 2, 3, 4],\n",
    "              [5, 6, 7, 8],\n",
    "              [9, 10, 11, 12],\n",
    "              [13, 14, 15, 16]])  # added some commas and array creation code\n",
    "\n",
    "fig = plt.figure(figsize=(6, 3.2))\n",
    "\n",
    "ax = fig.add_subplot(111)\n",
    "ax.set_title('colorMap')\n",
    "plt.imshow(H)\n",
    "ax.set_aspect('equal')\n",
    "\n",
    "cax = fig.add_axes([0.12, 0.1, 0.78, 0.8])\n",
    "cax.get_xaxis().set_visible(False)\n",
    "cax.get_yaxis().set_visible(False)\n",
    "cax.patch.set_alpha(0)\n",
    "cax.set_frame_on(False)\n",
    "plt.colorbar(orientation='vertical')\n",
    "plt.show()"
   ]
  }
 ],
 "metadata": {
  "anaconda-cloud": {},
  "kernelspec": {
   "display_name": "Python [default]",
   "language": "python",
   "name": "python2"
  },
  "language_info": {
   "codemirror_mode": {
    "name": "ipython",
    "version": 2
   },
   "file_extension": ".py",
   "mimetype": "text/x-python",
   "name": "python",
   "nbconvert_exporter": "python",
   "pygments_lexer": "ipython2",
   "version": "2.7.12"
  }
 },
 "nbformat": 4,
 "nbformat_minor": 1
}
